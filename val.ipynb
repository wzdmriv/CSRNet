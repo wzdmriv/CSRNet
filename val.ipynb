{
 "cells": [
  {
   "cell_type": "code",
   "execution_count": 1,
   "metadata": {},
   "outputs": [],
   "source": [
    "import h5py\n",
    "import scipy.io as io\n",
    "import PIL.Image as Image\n",
    "import numpy as np\n",
    "import os\n",
    "import glob\n",
    "from matplotlib import pyplot as plt\n",
    "from scipy.ndimage.filters import gaussian_filter \n",
    "import scipy\n",
    "import json\n",
    "import torchvision.transforms.functional as F\n",
    "from matplotlib import cm as CM\n",
    "from image import *\n",
    "from model import CSRNet\n",
    "import torch\n",
    "%matplotlib inline"
   ]
  },
  {
   "cell_type": "code",
   "execution_count": 2,
   "metadata": {},
   "outputs": [],
   "source": [
    "from torchvision import datasets, transforms\n",
    "transform=transforms.Compose([\n",
    "                       transforms.ToTensor(),transforms.Normalize(mean=[0.485, 0.456, 0.406],\n",
    "                                     std=[0.229, 0.224, 0.225]),\n",
    "                   ])"
   ]
  },
  {
   "cell_type": "code",
   "execution_count": 3,
   "metadata": {},
   "outputs": [],
   "source": [
    "root = 'C:/Users/wzdmr/Workspace/CSRNet-pytorch-master/dataset/'"
   ]
  },
  {
   "cell_type": "code",
   "execution_count": 4,
   "metadata": {},
   "outputs": [],
   "source": [
    "#now generate the ShanghaiA's ground truth\n",
    "part_A_train = os.path.join(root,'part_A_final/train_data','images')\n",
    "part_A_test = os.path.join(root,'part_A_final/test_data','images')\n",
    "part_B_train = os.path.join(root,'part_B_final/train_data','images')\n",
    "part_B_test = os.path.join(root,'part_B_final/test_data','images')\n",
    "path_sets = [part_A_test]"
   ]
  },
  {
   "cell_type": "code",
   "execution_count": 5,
   "metadata": {},
   "outputs": [],
   "source": [
    "img_paths = []\n",
    "for path in path_sets:\n",
    "    for img_path in glob.glob(os.path.join(path, '*.jpg')):\n",
    "        img_paths.append(img_path)"
   ]
  },
  {
   "cell_type": "code",
   "execution_count": 6,
   "metadata": {},
   "outputs": [],
   "source": [
    "model = CSRNet()"
   ]
  },
  {
   "cell_type": "code",
   "execution_count": 7,
   "metadata": {},
   "outputs": [],
   "source": [
    "model = model.cuda()"
   ]
  },
  {
   "cell_type": "code",
   "execution_count": 9,
   "metadata": {},
   "outputs": [],
   "source": [
    "checkpoint = torch.load('0model_best.pth.tar')"
   ]
  },
  {
   "cell_type": "code",
   "execution_count": 10,
   "metadata": {},
   "outputs": [
    {
     "data": {
      "text/plain": [
       "<All keys matched successfully>"
      ]
     },
     "execution_count": 10,
     "metadata": {},
     "output_type": "execute_result"
    }
   ],
   "source": [
    "model.load_state_dict(checkpoint['state_dict'])"
   ]
  },
  {
   "cell_type": "code",
   "execution_count": 14,
   "metadata": {
    "scrolled": true
   },
   "outputs": [
    {
     "name": "stdout",
     "output_type": "stream",
     "text": [
      "0 309.8692321777344\n",
      "1 962.0317077636719\n",
      "2 2203.562469482422\n",
      "3 2358.526397705078\n",
      "4 4161.976837158203\n",
      "5 5367.977935791016\n",
      "6 10840.658599853516\n",
      "7 11068.30078125\n",
      "8 25771.779296875\n",
      "9 26024.679275512695\n",
      "10 26859.797927856445\n",
      "11 28320.39582824707\n",
      "12 30107.693557739258\n",
      "13 35322.68525695801\n",
      "14 35806.16899108887\n",
      "15 36123.27995300293\n",
      "16 36804.33610534668\n",
      "17 37467.70170593262\n",
      "18 46152.82182312012\n",
      "19 47126.57652282715\n",
      "20 60164.11167907715\n",
      "21 60669.79685974121\n",
      "22 61080.11454772949\n",
      "23 62677.40800476074\n",
      "24 62694.52186584473\n",
      "25 68603.83876037598\n",
      "26 71225.89637756348\n",
      "27 72503.36280822754\n",
      "28 73016.60768127441\n",
      "29 74709.80787658691\n",
      "30 74964.68367004395\n",
      "31 75104.98976135254\n",
      "32 76494.38331604004\n",
      "33 78195.73316955566\n",
      "34 81979.57203674316\n",
      "35 82515.59870910645\n",
      "36 86031.17390441895\n",
      "37 87511.07258605957\n",
      "38 88346.12483215332\n",
      "39 89107.81843566895\n",
      "40 89268.19631958008\n",
      "41 89789.40127563477\n",
      "42 93690.47525024414\n",
      "43 94676.16323852539\n",
      "44 94843.07849121094\n",
      "45 96275.78186035156\n",
      "46 97141.92767333984\n",
      "47 98263.60052490234\n",
      "48 99175.39764404297\n",
      "49 99504.64346313477\n",
      "50 101088.12161254883\n",
      "51 103046.4641418457\n",
      "52 104044.49893188477\n",
      "53 104885.83261108398\n",
      "54 104964.36921691895\n",
      "55 105630.51014709473\n",
      "56 107016.19276428223\n",
      "57 111988.59803771973\n",
      "58 112417.21897888184\n",
      "59 112828.70170593262\n",
      "60 115404.76225280762\n",
      "61 116813.82719421387\n",
      "62 117045.21214294434\n",
      "63 117202.59812927246\n",
      "64 118932.48497009277\n",
      "65 122659.04405212402\n",
      "66 124644.15342712402\n",
      "67 127414.3221282959\n",
      "68 127824.21781921387\n",
      "69 128754.74699401855\n",
      "70 130533.66581726074\n",
      "71 130594.97302246094\n",
      "72 132381.21813964844\n",
      "73 136520.47106933594\n",
      "74 136968.49270629883\n",
      "75 137719.89804077148\n",
      "76 138916.73764038086\n",
      "77 139447.4762878418\n",
      "78 145211.2663269043\n",
      "79 149080.0671081543\n",
      "80 150590.90084838867\n",
      "81 153894.07418823242\n",
      "82 157291.81784057617\n",
      "83 158204.63766479492\n",
      "84 159930.84762573242\n",
      "85 160448.8211364746\n",
      "86 161185.12796020508\n",
      "87 163706.10452270508\n",
      "88 163850.70391845703\n",
      "89 164787.2978515625\n",
      "90 164911.19744873047\n",
      "91 165188.32064819336\n",
      "92 165383.56047058105\n",
      "93 165909.70365905762\n",
      "94 169928.4446258545\n",
      "95 172592.66508483887\n",
      "96 178031.00102233887\n",
      "97 178206.0608062744\n",
      "98 178894.6259918213\n",
      "99 181214.8320465088\n",
      "100 182479.57167053223\n",
      "101 183429.6330718994\n",
      "102 189791.6574859619\n",
      "103 190450.43336486816\n",
      "104 191206.4458770752\n",
      "105 192716.96711730957\n",
      "106 194201.82209777832\n",
      "107 195470.46272277832\n",
      "108 196961.31440734863\n",
      "109 197983.88618469238\n",
      "110 198295.10276794434\n",
      "111 199589.0546722412\n",
      "112 202309.5527191162\n",
      "113 202854.33226013184\n",
      "114 205289.7360687256\n",
      "115 205784.0051727295\n",
      "116 206232.9257659912\n",
      "117 206366.3973236084\n",
      "118 207479.2458343506\n",
      "119 207957.60508728027\n",
      "120 208996.76622009277\n",
      "121 209673.31523132324\n",
      "122 210181.37828063965\n",
      "123 210805.04203796387\n",
      "124 213984.48149108887\n",
      "125 216493.2981414795\n",
      "126 217703.90580749512\n",
      "127 220939.77226257324\n",
      "128 221213.25956726074\n",
      "129 221560.72312927246\n",
      "130 222603.97618103027\n",
      "131 223660.3007659912\n",
      "132 226636.32469177246\n",
      "133 226949.52653503418\n",
      "134 227350.5084991455\n",
      "135 228332.01985168457\n",
      "136 228621.35585021973\n",
      "137 229318.35151672363\n",
      "138 232498.636428833\n",
      "139 232917.45808410645\n",
      "140 233799.30610656738\n",
      "141 236236.72358703613\n",
      "142 236460.88166809082\n",
      "143 237523.37226867676\n",
      "144 238119.7613067627\n",
      "145 243158.04206848145\n",
      "146 244205.8570098877\n",
      "147 244304.14135742188\n",
      "148 245671.8446044922\n",
      "149 246902.59594726562\n",
      "150 248042.63159179688\n",
      "151 248225.75659179688\n",
      "152 248364.92669677734\n",
      "153 248913.84143066406\n",
      "154 249583.61212158203\n",
      "155 249705.25872802734\n",
      "156 255856.4799194336\n",
      "157 256424.6319580078\n",
      "158 256730.96856689453\n",
      "159 256919.7084350586\n",
      "160 259612.72088623047\n",
      "161 260150.8402709961\n",
      "162 261355.38397216797\n",
      "163 261911.7303466797\n",
      "164 262518.4208984375\n",
      "165 262980.25872802734\n",
      "166 263478.3465576172\n",
      "167 264466.13708496094\n",
      "168 264798.76483154297\n",
      "169 265855.6957397461\n",
      "170 267426.8129272461\n",
      "171 267981.7844848633\n",
      "172 279617.6047973633\n",
      "173 279635.13358306885\n",
      "174 280857.488319397\n",
      "175 282497.14920806885\n",
      "176 282835.3106460571\n",
      "177 284191.4048843384\n",
      "178 285065.631690979\n",
      "179 290202.735206604\n",
      "180 290756.46158599854\n",
      "181 291227.16007232666\n",
      "1600.14923116663\n"
     ]
    }
   ],
   "source": [
    "mae = 0\n",
    "for i in range(len(img_paths)):\n",
    "    img = 255.0 * F.to_tensor(Image.open(img_paths[i]).convert('RGB'))\n",
    "\n",
    "    img[0,:,:]=img[0,:,:]-92.8207477031\n",
    "    img[1,:,:]=img[1,:,:]-95.2757037428\n",
    "    img[2,:,:]=img[2,:,:]-104.877445883\n",
    "    img = img.cuda()\n",
    "    #img = transform(Image.open(img_paths[i]).convert('RGB')).cuda()\n",
    "    gt_file = h5py.File(img_paths[i].replace('.jpg','.h5').replace('images','ground_truth'),'r')\n",
    "    groundtruth = np.asarray(gt_file['density'])\n",
    "    output = model(img.unsqueeze(0))\n",
    "    mae += abs(output.detach().cpu().sum().numpy()-np.sum(groundtruth))\n",
    "    print(i,mae)\n",
    "print(mae/len(img_paths))"
   ]
  },
  {
   "cell_type": "code",
   "execution_count": 19,
   "metadata": {
    "scrolled": true
   },
   "outputs": [
    {
     "name": "stdout",
     "output_type": "stream",
     "text": [
      "Predicted Count :  18\n"
     ]
    },
    {
     "data": {
      "image/png": "[encoded data removed]",
      "text/plain": [
       "<Figure size 432x288 with 1 Axes>"
      ]
     },
     "metadata": {
      "needs_background": "light"
     },
     "output_type": "display_data"
    },
    {
     "ename": "FileNotFoundError",
     "evalue": "[Errno 2] Unable to open file (unable to open file: name = 'part_A/test_data/ground-truth/IMG_100.h5', errno = 2, error message = 'No such file or directory', flags = 0, o_flags = 0)",
     "output_type": "error",
     "traceback": [
      "\u001b[1;31m---------------------------------------------------------------------------\u001b[0m",
      "\u001b[1;31mFileNotFoundError\u001b[0m                         Traceback (most recent call last)",
      "\u001b[1;32m<ipython-input-19-79f23304827a>\u001b[0m in \u001b[0;36m<module>\u001b[1;34m\u001b[0m\n\u001b[0;32m      7\u001b[0m \u001b[0mplt\u001b[0m\u001b[1;33m.\u001b[0m\u001b[0mimshow\u001b[0m\u001b[1;33m(\u001b[0m\u001b[0mtemp\u001b[0m\u001b[1;33m,\u001b[0m\u001b[0mcmap\u001b[0m \u001b[1;33m=\u001b[0m \u001b[0mc\u001b[0m\u001b[1;33m.\u001b[0m\u001b[0mjet\u001b[0m\u001b[1;33m)\u001b[0m\u001b[1;33m\u001b[0m\u001b[1;33m\u001b[0m\u001b[0m\n\u001b[0;32m      8\u001b[0m \u001b[0mplt\u001b[0m\u001b[1;33m.\u001b[0m\u001b[0mshow\u001b[0m\u001b[1;33m(\u001b[0m\u001b[1;33m)\u001b[0m\u001b[1;33m\u001b[0m\u001b[1;33m\u001b[0m\u001b[0m\n\u001b[1;32m----> 9\u001b[1;33m \u001b[0mtemp\u001b[0m \u001b[1;33m=\u001b[0m \u001b[0mh5py\u001b[0m\u001b[1;33m.\u001b[0m\u001b[0mFile\u001b[0m\u001b[1;33m(\u001b[0m\u001b[1;34m'part_A/test_data/ground-truth/IMG_100.h5'\u001b[0m\u001b[1;33m,\u001b[0m \u001b[1;34m'r'\u001b[0m\u001b[1;33m)\u001b[0m\u001b[1;33m\u001b[0m\u001b[1;33m\u001b[0m\u001b[0m\n\u001b[0m\u001b[0;32m     10\u001b[0m \u001b[0mtemp_1\u001b[0m \u001b[1;33m=\u001b[0m \u001b[0mnp\u001b[0m\u001b[1;33m.\u001b[0m\u001b[0masarray\u001b[0m\u001b[1;33m(\u001b[0m\u001b[0mtemp\u001b[0m\u001b[1;33m[\u001b[0m\u001b[1;34m'density'\u001b[0m\u001b[1;33m]\u001b[0m\u001b[1;33m)\u001b[0m\u001b[1;33m\u001b[0m\u001b[1;33m\u001b[0m\u001b[0m\n\u001b[0;32m     11\u001b[0m \u001b[0mplt\u001b[0m\u001b[1;33m.\u001b[0m\u001b[0mimshow\u001b[0m\u001b[1;33m(\u001b[0m\u001b[0mtemp_1\u001b[0m\u001b[1;33m,\u001b[0m\u001b[0mcmap\u001b[0m \u001b[1;33m=\u001b[0m \u001b[0mc\u001b[0m\u001b[1;33m.\u001b[0m\u001b[0mjet\u001b[0m\u001b[1;33m)\u001b[0m\u001b[1;33m\u001b[0m\u001b[1;33m\u001b[0m\u001b[0m\n",
      "\u001b[1;32mc:\\users\\wzdmr\\anaconda3\\envs\\py37\\lib\\site-packages\\h5py\\_hl\\files.py\u001b[0m in \u001b[0;36m__init__\u001b[1;34m(self, name, mode, driver, libver, userblock_size, swmr, rdcc_nslots, rdcc_nbytes, rdcc_w0, track_order, fs_strategy, fs_persist, fs_threshold, **kwds)\u001b[0m\n\u001b[0;32m    443\u001b[0m                                fapl, fcpl=make_fcpl(track_order=track_order, fs_strategy=fs_strategy,\n\u001b[0;32m    444\u001b[0m                                fs_persist=fs_persist, fs_threshold=fs_threshold),\n\u001b[1;32m--> 445\u001b[1;33m                                swmr=swmr)\n\u001b[0m\u001b[0;32m    446\u001b[0m \u001b[1;33m\u001b[0m\u001b[0m\n\u001b[0;32m    447\u001b[0m             \u001b[1;32mif\u001b[0m \u001b[0misinstance\u001b[0m\u001b[1;33m(\u001b[0m\u001b[0mlibver\u001b[0m\u001b[1;33m,\u001b[0m \u001b[0mtuple\u001b[0m\u001b[1;33m)\u001b[0m\u001b[1;33m:\u001b[0m\u001b[1;33m\u001b[0m\u001b[1;33m\u001b[0m\u001b[0m\n",
      "\u001b[1;32mc:\\users\\wzdmr\\anaconda3\\envs\\py37\\lib\\site-packages\\h5py\\_hl\\files.py\u001b[0m in \u001b[0;36mmake_fid\u001b[1;34m(name, mode, userblock_size, fapl, fcpl, swmr)\u001b[0m\n\u001b[0;32m    193\u001b[0m         \u001b[1;32mif\u001b[0m \u001b[0mswmr\u001b[0m \u001b[1;32mand\u001b[0m \u001b[0mswmr_support\u001b[0m\u001b[1;33m:\u001b[0m\u001b[1;33m\u001b[0m\u001b[1;33m\u001b[0m\u001b[0m\n\u001b[0;32m    194\u001b[0m             \u001b[0mflags\u001b[0m \u001b[1;33m|=\u001b[0m \u001b[0mh5f\u001b[0m\u001b[1;33m.\u001b[0m\u001b[0mACC_SWMR_READ\u001b[0m\u001b[1;33m\u001b[0m\u001b[1;33m\u001b[0m\u001b[0m\n\u001b[1;32m--> 195\u001b[1;33m         \u001b[0mfid\u001b[0m \u001b[1;33m=\u001b[0m \u001b[0mh5f\u001b[0m\u001b[1;33m.\u001b[0m\u001b[0mopen\u001b[0m\u001b[1;33m(\u001b[0m\u001b[0mname\u001b[0m\u001b[1;33m,\u001b[0m \u001b[0mflags\u001b[0m\u001b[1;33m,\u001b[0m \u001b[0mfapl\u001b[0m\u001b[1;33m=\u001b[0m\u001b[0mfapl\u001b[0m\u001b[1;33m)\u001b[0m\u001b[1;33m\u001b[0m\u001b[1;33m\u001b[0m\u001b[0m\n\u001b[0m\u001b[0;32m    196\u001b[0m     \u001b[1;32melif\u001b[0m \u001b[0mmode\u001b[0m \u001b[1;33m==\u001b[0m \u001b[1;34m'r+'\u001b[0m\u001b[1;33m:\u001b[0m\u001b[1;33m\u001b[0m\u001b[1;33m\u001b[0m\u001b[0m\n\u001b[0;32m    197\u001b[0m         \u001b[0mfid\u001b[0m \u001b[1;33m=\u001b[0m \u001b[0mh5f\u001b[0m\u001b[1;33m.\u001b[0m\u001b[0mopen\u001b[0m\u001b[1;33m(\u001b[0m\u001b[0mname\u001b[0m\u001b[1;33m,\u001b[0m \u001b[0mh5f\u001b[0m\u001b[1;33m.\u001b[0m\u001b[0mACC_RDWR\u001b[0m\u001b[1;33m,\u001b[0m \u001b[0mfapl\u001b[0m\u001b[1;33m=\u001b[0m\u001b[0mfapl\u001b[0m\u001b[1;33m)\u001b[0m\u001b[1;33m\u001b[0m\u001b[1;33m\u001b[0m\u001b[0m\n",
      "\u001b[1;32mh5py\\_objects.pyx\u001b[0m in \u001b[0;36mh5py._objects.with_phil.wrapper\u001b[1;34m()\u001b[0m\n",
      "\u001b[1;32mh5py\\_objects.pyx\u001b[0m in \u001b[0;36mh5py._objects.with_phil.wrapper\u001b[1;34m()\u001b[0m\n",
      "\u001b[1;32mh5py\\h5f.pyx\u001b[0m in \u001b[0;36mh5py.h5f.open\u001b[1;34m()\u001b[0m\n",
      "\u001b[1;31mFileNotFoundError\u001b[0m: [Errno 2] Unable to open file (unable to open file: name = 'part_A/test_data/ground-truth/IMG_100.h5', errno = 2, error message = 'No such file or directory', flags = 0, o_flags = 0)"
     ]
    }
   ],
   "source": [
    "from matplotlib import cm as c\n",
    "img = transform(Image.open('dataset/part_A_final/train_data/images/IMG_301.jpg').convert('RGB')).cuda()\n",
    "\n",
    "output = model(img.unsqueeze(0))\n",
    "print(\"Predicted Count : \",int(output.detach().cpu().sum().numpy()))\n",
    "temp = np.asarray(output.detach().cpu().reshape(output.detach().cpu().shape[2],output.detach().cpu().shape[3]))\n",
    "plt.imshow(temp,cmap = c.jet)\n",
    "plt.show()\n",
    "temp = h5py.File('part_A/test_data/ground-truth/IMG_100.h5', 'r')\n",
    "temp_1 = np.asarray(temp['density'])\n",
    "plt.imshow(temp_1,cmap = c.jet)\n",
    "print(\"Original Count : \",int(np.sum(temp_1)) + 1)\n",
    "plt.show()\n",
    "print(\"Original Image\")\n",
    "plt.imshow(plt.imread('part_A/test_data/images/IMG_100.jpg'))\n",
    "plt.show()"
   ]
  },
  {
   "cell_type": "code",
   "execution_count": null,
   "metadata": {},
   "outputs": [],
   "source": []
  }
 ],
 "metadata": {
  "kernelspec": {
   "display_name": "Python 3",
   "language": "python",
   "name": "python3"
  },
  "language_info": {
   "codemirror_mode": {
    "name": "ipython",
    "version": 3
   },
   "file_extension": ".py",
   "mimetype": "text/x-python",
   "name": "python",
   "nbconvert_exporter": "python",
   "pygments_lexer": "ipython3",
   "version": "3.7.10"
  }
 },
 "nbformat": 4,
 "nbformat_minor": 2
}
